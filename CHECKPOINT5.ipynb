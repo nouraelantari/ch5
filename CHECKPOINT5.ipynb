{
 "cells": [
  {
   "cell_type": "markdown",
   "id": "bdfff08f",
   "metadata": {},
   "source": [
    "# CHECKPOINT5"
   ]
  },
  {
   "cell_type": "code",
   "execution_count": 5,
   "id": "765351e3",
   "metadata": {},
   "outputs": [
    {
     "data": {
      "text/plain": [
       "(1, 2, 3)"
      ]
     },
     "execution_count": 5,
     "metadata": {},
     "output_type": "execute_result"
    }
   ],
   "source": [
    "class point3D:\n",
    "    def __init__(self,x,y,z):\n",
    "        self.x=x\n",
    "        self.y=y\n",
    "        self.z=z\n",
    "    def affichage(self):\n",
    "        return (self.x,self.y,self.z)\n",
    "my_point=point3D(1,2,3)\n",
    "my_point.affichage()\n",
    "        \n",
    "        \n",
    "        "
   ]
  },
  {
   "cell_type": "code",
   "execution_count": 14,
   "id": "62d301e0",
   "metadata": {},
   "outputs": [
    {
     "name": "stdout",
     "output_type": "stream",
     "text": [
      "area is 12 , perimeter is 14\n"
     ]
    }
   ],
   "source": [
    "class Rectangle:\n",
    "    def __init__(self,length,width):\n",
    "        self.length=length\n",
    "        self.width=width\n",
    "        \n",
    "    def area(self):\n",
    "        return (self.length*self.width)\n",
    "    \n",
    "    def perimeter(self):\n",
    "        return(2*(self.length+self.width))\n",
    "    \n",
    "my_rectangle=Rectangle(3,4)\n",
    "print(\"area is\",my_rectangle.area(),\",\",\"perimeter is\",my_rectangle.perimeter())"
   ]
  },
  {
   "cell_type": "code",
   "execution_count": 23,
   "id": "4b08e35d",
   "metadata": {},
   "outputs": [
    {
     "name": "stdout",
     "output_type": "stream",
     "text": [
      "the are is 113.09733552923255 , the perimeter is 37.69911184307752\n",
      "this point is inside my circle\n"
     ]
    }
   ],
   "source": [
    "import math\n",
    "class circle:\n",
    "    def __init__(self,c1,c2,r):\n",
    "        self.c1=c1\n",
    "        self.c2=c2\n",
    "        self.r=r\n",
    "        \n",
    "    def area(self):\n",
    "        return (math.pi*self.r**2)\n",
    "    \n",
    "    def perimeter(self):\n",
    "        return (math.pi*2*self.r)\n",
    "    \n",
    "    def isinside(self,x,y):\n",
    "        if ((x-self.c1**2)+(y-self.c1**2)<=self.r**2):\n",
    "            return(\"this point is inside my circle\")\n",
    "        else:\n",
    "            return(\"this point is not inside my circle\")\n",
    "my_circle=circle(3,3,6)\n",
    "print(\"the are is\",my_circle.area(),\", the perimeter is\",my_circle.perimeter())\n",
    "print(my_circle.isinside(6,2))\n"
   ]
  },
  {
   "cell_type": "code",
   "execution_count": 3,
   "id": "03d4a144",
   "metadata": {},
   "outputs": [
    {
     "name": "stdout",
     "output_type": "stream",
     "text": [
      "10300\n",
      "7300\n"
     ]
    }
   ],
   "source": [
    "class Bank:\n",
    "    def __init__(self,balance):\n",
    "        self.balance=balance\n",
    "        \n",
    "    def deposit(self,deposit):\n",
    "        self.balance=self.balance+deposit\n",
    "        return self.balance \n",
    "    \n",
    "    def withdraw(self,withdraw):\n",
    "        self.balance=self.balance-withdraw\n",
    "        return self.balance\n",
    "\n",
    "my_bank=Bank(5300)\n",
    "print(my_bank.deposit(5000))\n",
    "\n",
    "print(my_bank.withdraw(3000))\n"
   ]
  },
  {
   "cell_type": "code",
   "execution_count": null,
   "id": "929a2908",
   "metadata": {},
   "outputs": [],
   "source": []
  }
 ],
 "metadata": {
  "kernelspec": {
   "display_name": "Python 3 (ipykernel)",
   "language": "python",
   "name": "python3"
  },
  "language_info": {
   "codemirror_mode": {
    "name": "ipython",
    "version": 3
   },
   "file_extension": ".py",
   "mimetype": "text/x-python",
   "name": "python",
   "nbconvert_exporter": "python",
   "pygments_lexer": "ipython3",
   "version": "3.9.7"
  }
 },
 "nbformat": 4,
 "nbformat_minor": 5
}
